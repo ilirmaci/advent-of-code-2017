{
 "cells": [
  {
   "cell_type": "code",
   "execution_count": 1,
   "metadata": {},
   "outputs": [],
   "source": [
    "### solution to puzzles described here http://adventofcode.com/2017/day/13\n",
    "\n",
    "## Helper functions\n",
    "def read_scanners(ll):\n",
    "    '''(list of str) -> list of (int, int)\n",
    "    Return list of 2-tuples (scanner depth, scanner range).'''\n",
    "    results = []\n",
    "    for line in ll:\n",
    "        split_line = line.strip().split(': ')\n",
    "        results.append((int(split_line[0]), int(split_line[1])))\n",
    "    return results\n",
    "\n",
    "def scanner_position(t, scan_range):\n",
    "    '''(int, int) -> int\n",
    "    Return position of scanner at period `t`.'''\n",
    "    \n",
    "    movement_range = scan_range - 1\n",
    "    period = int(t / movement_range)\n",
    "    \n",
    "    # on even-numbered periods position is modulo (0-indexed)\n",
    "    if period % 2 == 0:\n",
    "        return t % movement_range\n",
    "    \n",
    "    # otherwise it's movement_range - modulo\n",
    "    else:\n",
    "        return movement_range - t % movement_range\n",
    "\n",
    "def find_hits(scanners, delay=0):\n",
    "    '''(list of (int, int), int) -> list of (int, int)\n",
    "    Return list of elements in `scanners` that catch us.'''\n",
    "    return filter(lambda x: scanner_position(x[0] + delay, x[1]) == 0, scanners)\n",
    "    \n",
    "def score(hits):\n",
    "    '''(list of (int, int)) -> int\n",
    "    Return the score it scanners in `hits` have caught us.'''\n",
    "    return sum(map(lambda x: x[0] * x[1], hits))"
   ]
  },
  {
   "cell_type": "code",
   "execution_count": 2,
   "metadata": {},
   "outputs": [],
   "source": [
    "## read input\n",
    "raw_input = open('day13_input.txt').readlines()\n",
    "scanners = read_scanners(raw_input)"
   ]
  },
  {
   "cell_type": "code",
   "execution_count": 3,
   "metadata": {},
   "outputs": [
    {
     "name": "stdout",
     "output_type": "stream",
     "text": [
      "The answer to the first puzzle is 1728\n"
     ]
    }
   ],
   "source": [
    "## Solution to PUZZLE 1\n",
    "scanners_that_hit = find_hits(scanners)\n",
    "print 'The answer to the first puzzle is', score(scanners_that_hit)"
   ]
  },
  {
   "cell_type": "code",
   "execution_count": 6,
   "metadata": {},
   "outputs": [
    {
     "name": "stdout",
     "output_type": "stream",
     "text": [
      "3946838\n"
     ]
    }
   ],
   "source": [
    "# takes a few minutes to run\n",
    "for delay in xrange(30000000):\n",
    "    if len(find_hits(scanners, dd)) == 0:\n",
    "        print delay\n",
    "        break"
   ]
  },
  {
   "cell_type": "code",
   "execution_count": 8,
   "metadata": {},
   "outputs": [
    {
     "name": "stdout",
     "output_type": "stream",
     "text": [
      "The answer to the second puzzle is 3946838\n"
     ]
    }
   ],
   "source": [
    "print 'The answer to the second puzzle is', delay"
   ]
  }
 ],
 "metadata": {
  "kernelspec": {
   "display_name": "Python 2",
   "language": "python",
   "name": "python2"
  },
  "language_info": {
   "codemirror_mode": {
    "name": "ipython",
    "version": 2
   },
   "file_extension": ".py",
   "mimetype": "text/x-python",
   "name": "python",
   "nbconvert_exporter": "python",
   "pygments_lexer": "ipython2",
   "version": "2.7.14"
  }
 },
 "nbformat": 4,
 "nbformat_minor": 2
}
