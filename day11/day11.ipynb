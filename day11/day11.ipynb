{
 "cells": [
  {
   "cell_type": "code",
   "execution_count": 8,
   "metadata": {},
   "outputs": [],
   "source": [
    "### solution to puzzles described here http://adventofcode.com/2017/day/11\n",
    "\n",
    "## Helper functions\n",
    "def count_values(ll):\n",
    "    '''(list of str) -> dict of str:int\n",
    "    Return a dictionary with counts of all unique values in `ll`\n",
    "    '''\n",
    "    result = {'n':0, 's':0, 'nw':0, 'sw':0, 'ne':0, 'se':0}\n",
    "    for item in ll:\n",
    "        result[item] += 1\n",
    "    return result\n",
    "\n",
    "def consolidate(dd):\n",
    "    '''(dict of str:int) -> (int, int, int)\n",
    "    Return a 3-tuple with moves on each axis cancelling each-other.\n",
    "    The axes are (nw-se, n-s, ne-sw). A positive value means north of center.\n",
    "    '''\n",
    "    v = dd.get('n', 0) - dd.get('s', 0)\n",
    "    d1 = dd.get('nw', 0) - dd.get('se', 0)\n",
    "    d2 = dd.get('ne', 0) - dd.get('sw', 0)\n",
    "    return (d1, v, d2)\n",
    "\n",
    "def collapse_nesw(consolidated):\n",
    "    '''((int, int, int)) -> (int, int)\n",
    "    Return an equivalent 2-tuple after converting the ne-sw diagonal (d2) into the other two. \n",
    "    '''\n",
    "    d1, v, d2 = consolidated\n",
    "    return (d1 - d2, v + d2)\n",
    "\n",
    "def distance(collapsed):\n",
    "    '''((int, int)) -> int\n",
    "    Return distance travelled after the given (nw-se, n-s) tuple of moves'''\n",
    "    d1, v = collapsed\n",
    "    same_sign = (d1 * v >= 0)\n",
    "    \n",
    "    if same_sign:\n",
    "        return abs(d1 + v)\n",
    "    else:\n",
    "        return max(abs(d1), abs(v))"
   ]
  },
  {
   "cell_type": "code",
   "execution_count": 2,
   "metadata": {},
   "outputs": [],
   "source": [
    "## read input\n",
    "\n",
    "input_raw = open('day11_input.txt').read()\n",
    "moves = input_raw.strip().split(',')"
   ]
  },
  {
   "cell_type": "code",
   "execution_count": 11,
   "metadata": {},
   "outputs": [
    {
     "name": "stdout",
     "output_type": "stream",
     "text": [
      "The answer to the first puzzle: 685\n"
     ]
    }
   ],
   "source": [
    "## Answer to PUZZLE 1\n",
    "\n",
    "counts = count_values(moves)\n",
    "final_tuple = collapse_nesw(consolidate(counts))\n",
    "print \"The answer to the first puzzle:\", distance(final_tuple)"
   ]
  },
  {
   "cell_type": "code",
   "execution_count": 14,
   "metadata": {},
   "outputs": [
    {
     "name": "stdout",
     "output_type": "stream",
     "text": [
      "The answer to the second puzzle: 1457\n"
     ]
    }
   ],
   "source": [
    "## Answer to PUZZLE 2\n",
    "\n",
    "counts_incremental = {'n':0, 's':0, 'nw':0, 'sw':0, 'ne':0, 'se':0}\n",
    "step_distance = []\n",
    "\n",
    "for move in moves:\n",
    "    counts_incremental[move] += 1\n",
    "    current_distance = distance(collapse_nesw(consolidate(counts_incremental)))\n",
    "    step_distance.append(current_distance)\n",
    "\n",
    "print \"The answer to the second puzzle:\", max(step_distance)"
   ]
  }
 ],
 "metadata": {
  "kernelspec": {
   "display_name": "Python 2",
   "language": "python",
   "name": "python2"
  },
  "language_info": {
   "codemirror_mode": {
    "name": "ipython",
    "version": 2
   },
   "file_extension": ".py",
   "mimetype": "text/x-python",
   "name": "python",
   "nbconvert_exporter": "python",
   "pygments_lexer": "ipython2",
   "version": "2.7.14"
  }
 },
 "nbformat": 4,
 "nbformat_minor": 2
}
