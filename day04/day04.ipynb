{
 "cells": [
  {
   "cell_type": "code",
   "execution_count": 18,
   "metadata": {},
   "outputs": [
    {
     "data": {
      "text/plain": [
       "477"
      ]
     },
     "execution_count": 18,
     "metadata": {},
     "output_type": "execute_result"
    }
   ],
   "source": [
    "# solution to puzzles described here http://adventofcode.com/2017/day/4\n",
    "\n",
    "### PUZZLE 1 ###\n",
    "\n",
    "# function that returns 1 if line is valid\n",
    "def is_valid(line):\n",
    "    line_list = line.strip().split(' ')\n",
    "    line_set = set(line_list)\n",
    "    return int(len(line_list) == len(line_set))\n",
    "\n",
    "phrases = open('day4_input.txt').readlines()\n",
    "\n",
    "print 'The answer to puzzle 1 is', sum(map(is_valid, phrases))"
   ]
  },
  {
   "cell_type": "code",
   "execution_count": 28,
   "metadata": {},
   "outputs": [
    {
     "name": "stdout",
     "output_type": "stream",
     "text": [
      " The answer to puzzle 2 is 167\n"
     ]
    }
   ],
   "source": [
    "### PUZZLE 2 ###\n",
    "\n",
    "# function to reorder letters in a word alphabetically\n",
    "def reorder(word):\n",
    "    return ''.join(sorted(list(word)))\n",
    "\n",
    "# modify function to not validate anagrams\n",
    "def is_valid_anagram(line):\n",
    "    line_list = line.strip().split(' ')\n",
    "    line_list_reordered = map(reorder, line_list)\n",
    "    line_set = set(line_list_reordered)\n",
    "    return int(len(line_list_reordered) == len(line_set))\n",
    "\n",
    "print 'The answer to puzzle 2 is', sum(map(is_valid_anagram, phrases))"
   ]
  }
 ],
 "metadata": {
  "kernelspec": {
   "display_name": "Python 2",
   "language": "python",
   "name": "python2"
  },
  "language_info": {
   "codemirror_mode": {
    "name": "ipython",
    "version": 2
   },
   "file_extension": ".py",
   "mimetype": "text/x-python",
   "name": "python",
   "nbconvert_exporter": "python",
   "pygments_lexer": "ipython2",
   "version": "2.7.14"
  }
 },
 "nbformat": 4,
 "nbformat_minor": 2
}
