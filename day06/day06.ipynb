{
 "cells": [
  {
   "cell_type": "code",
   "execution_count": 13,
   "metadata": {},
   "outputs": [],
   "source": [
    "# solution to puzzles described here http://adventofcode.com/2017/day/6\n",
    "\n",
    "### PUZZLE 1 ###\n",
    "\n",
    "# return the index of the highest element\n",
    "# leftmost element for ties\n",
    "def highest_index(ll):\n",
    "    highest = max(ll)\n",
    "    return ll.index(highest)\n",
    "\n",
    "# spread given element by adding one to consecutive elements\n",
    "def spread(ll, index):\n",
    "    stack = ll[index]\n",
    "    ll[index] = 0\n",
    "    to_add = [(index + x + 1) % len(ll) for x in range(stack)]\n",
    "    # print to_add\n",
    "    for i in to_add:\n",
    "        ll[i] += 1\n",
    "\n",
    "# compact list to a hashable object\n",
    "def compact(ll):\n",
    "    ll_string = map(str, ll)\n",
    "    return '-'.join(ll_string)\n"
   ]
  },
  {
   "cell_type": "code",
   "execution_count": 14,
   "metadata": {},
   "outputs": [
    {
     "name": "stdout",
     "output_type": "stream",
     "text": [
      "The answer to the first puzzle is 14029\n"
     ]
    }
   ],
   "source": [
    "## answer to puzzle 1\n",
    "\n",
    "# read data\n",
    "input_tsv = '10\t3\t15\t10\t5\t15\t5\t15\t9\t2\t5\t8\t5\t2\t3\t6'\n",
    "memory = map(int, input_tsv.split())\n",
    "\n",
    "# inilialize counters\n",
    "seen = set()\n",
    "\n",
    "while (compact(memory) not in seen):\n",
    "    seen.add(compact(memory))\n",
    "    highest = highest_index(memory)\n",
    "    spread(memory, highest)\n",
    "    \n",
    "    \n",
    "print 'The answer to the first puzzle is', len(seen)"
   ]
  },
  {
   "cell_type": "code",
   "execution_count": 31,
   "metadata": {},
   "outputs": [
    {
     "name": "stdout",
     "output_type": "stream",
     "text": [
      "The answer to the second puzzle is 2765\n"
     ]
    }
   ],
   "source": [
    "## answer to puzzle 2\n",
    "\n",
    "memory = map(int, input_tsv.split())\n",
    "\n",
    "# inilialize counters\n",
    "seen = {}\n",
    "\n",
    "while (compact(memory) not in seen) and counter <= 1000000:\n",
    "    seen[compact(memory)] = counter\n",
    "    counter += 1\n",
    "    highest = highest_index(memory)\n",
    "    spread(memory, highest)\n",
    "    \n",
    "    \n",
    "print 'The answer to the second puzzle is', counter - seen[compact(memory)]"
   ]
  }
 ],
 "metadata": {
  "kernelspec": {
   "display_name": "Python 2",
   "language": "python",
   "name": "python2"
  },
  "language_info": {
   "codemirror_mode": {
    "name": "ipython",
    "version": 2
   },
   "file_extension": ".py",
   "mimetype": "text/x-python",
   "name": "python",
   "nbconvert_exporter": "python",
   "pygments_lexer": "ipython2",
   "version": "2.7.14"
  }
 },
 "nbformat": 4,
 "nbformat_minor": 2
}
