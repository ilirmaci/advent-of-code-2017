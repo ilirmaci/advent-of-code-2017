{
 "cells": [
  {
   "cell_type": "code",
   "execution_count": 92,
   "metadata": {},
   "outputs": [],
   "source": [
    "### solution to puzzles described here http://adventofcode.com/2017/day/14\n",
    "\n",
    "## Helper functions from Day 10 (hash knot)\n",
    "\n",
    "def flip(vec, position, length):\n",
    "    '''(list on int) -> list of int\n",
    "    Return `vec` with elements position:(position+length) in reverse order'''\n",
    "    len_original = len(vec)\n",
    "    vec = 2 * vec\n",
    "    arc_end = position + length\n",
    "    arc = vec[position:arc_end]\n",
    "    vec[position:arc_end] = reversed(arc)\n",
    "    \n",
    "    if arc_end >= len_original:\n",
    "        spill = arc_end - len_original\n",
    "        vec[0:spill] = vec[len_original:arc_end]\n",
    "    \n",
    "    return vec[:len_original]\n",
    "\n",
    "def split_list(ll, sublist_length):\n",
    "    '''(list, int) -> list of list\n",
    "    Return `ll` split into pieces of length `sublist_length`'''\n",
    "    starts = range(0, len(ll), sublist_length)\n",
    "    return [ll[idx:(idx + sublist_length)] for idx in starts]\n",
    "\n",
    "def collapse_xor(row):\n",
    "    '''(list of int) -> int\n",
    "    Return the result of reducing `row` by bitwise XOR.\n",
    "    '''\n",
    "    return reduce(lambda a, b: a ^ b, row)\n",
    "\n",
    "def knot_hash(input_string):\n",
    "    '''(str) -> str\n",
    "    Return knot-hash of `input_string` as a 32-length string'''\n",
    "    extra_chars = \"\".join(map(lambda x: chr(int(x)), '17, 31, 73, 47, 23'.split(',')))\n",
    "    instructions = map(ord, input_string + extra_chars)\n",
    "    vec = range(256)\n",
    "    skip = 0\n",
    "    position = 0\n",
    "\n",
    "    for rr in range(64):\n",
    "        for length in instructions:\n",
    "            vec = flip(vec, position, length)\n",
    "            position = (position + length + skip) % 256\n",
    "            skip += 1\n",
    "\n",
    "    folded_vec = split_list(vec, 16)\n",
    "    list_of_dec = map(collapse_xor, folded_vec)\n",
    "    list_of_hex = map(lambda y: \"{0:02x}\".format(y), list_of_dec)\n",
    "    result_string = ''.join(list_of_hex)\n",
    "    return result_string\n",
    "\n",
    "## New helper functions\n",
    "def dec2hex(x):\n",
    "    '''(int) -> str\n",
    "    Return a hexadecimal representation of `x`'''\n",
    "    return format(x, 'x')\n",
    "\n",
    "def dec2bin(x):\n",
    "    '''(int) -> str\n",
    "    Return a binary representation of `x`, \n",
    "    zero-padded to length 4'''\n",
    "    return format(x, '04b')\n",
    "\n",
    "# dictionary that will serve as a conversion function\n",
    "# I'm too lazy lo look up the correct function for this\n",
    "hex2bin = {dec2hex(x): dec2bin(x) for x in range(16)}\n",
    "\n",
    "def knot_binary(input_string, hex2bin=hex2bin):\n",
    "    '''(str, dict of str:str) -> str\n",
    "    Return binary representaiton of knot hach of `input_string`.\n",
    "    '''\n",
    "    hex_hash = knot_hash(input_string)\n",
    "    binary_list = [hex2bin[x] for x in list(hex_hash)]\n",
    "    return ''.join(binary_list)\n",
    "\n",
    "def get_grid(key):\n",
    "    '''(str) -> list of str\n",
    "    Return grid based on key as 128-length list of\n",
    "    128-length binary strings.'''\n",
    "    numbered_keys = [key + '-' + str(i) for i in range(128)]\n",
    "    return map(knot_binary, numbered_keys)\n",
    "\n",
    "def count_row(row):\n",
    "    '''(str) -> int\n",
    "    Return count of \"1\"s in `row`'''\n",
    "    return sum(map(int, row))\n",
    "    "
   ]
  },
  {
   "cell_type": "code",
   "execution_count": 94,
   "metadata": {},
   "outputs": [
    {
     "data": {
      "text/plain": [
       "'11010100'"
      ]
     },
     "execution_count": 94,
     "metadata": {},
     "output_type": "execute_result"
    }
   ],
   "source": [
    "## Read input\n",
    "\n",
    "input_raw = 'hxtvlmkl'\n",
    "test_input = 'flqrgnkx'\n",
    "knot_binary(test_input + '-0')[:8]"
   ]
  },
  {
   "cell_type": "code",
   "execution_count": 144,
   "metadata": {},
   "outputs": [
    {
     "name": "stdout",
     "output_type": "stream",
     "text": [
      "The answer to the first puzzle is 8214\n"
     ]
    }
   ],
   "source": [
    "##  Solution to PUZZLE 1\n",
    "bin_grid = get_grid(input_raw)\n",
    "result = sum(map(count_row, bin_grid))\n",
    "\n",
    "print 'The answer to the first puzzle is', result"
   ]
  },
  {
   "cell_type": "code",
   "execution_count": 184,
   "metadata": {},
   "outputs": [],
   "source": [
    "##  Solution to PUZZLE 1\n",
    "\n",
    "## More helper functions\n",
    "def content(grid, row, col):\n",
    "    '''(list of str, int, int) -> str\n",
    "    Return content of grid at indices (`row`, `col`), \n",
    "    or \"0\" if out of bounds.'''\n",
    "    if row < 0 or col < 0:\n",
    "        return \"0\"\n",
    "    \n",
    "    try:\n",
    "        result = grid[row][col]\n",
    "    except IndexError:\n",
    "        result = \"0\"\n",
    "    return result\n",
    "\n",
    "# this is not the best implementation, but it's simple\n",
    "# a proper one would use a functional solution with \n",
    "# memory of visited positions and yield\n",
    "def crawl(grid, row, col, count=0):\n",
    "    '''(list of int, int, int) -> list of str, int\n",
    "    Return `count` plus number of all adjacent \"1\" entries \n",
    "    starting from position (`row`, `col`). Modify grid in \n",
    "    place so counted \"1\" entries are changed to \"2\".\n",
    "    '''\n",
    "    if content(grid, row, col) != \"1\":\n",
    "        return count\n",
    "    else:\n",
    "        old_row = list(grid[row])  ## hacky\n",
    "        old_row[col] = \"2\"\n",
    "        new_row = \"\".join(old_row)\n",
    "        grid[row] = new_row\n",
    "        right = crawl(grid, row + 1, col, count + 1)\n",
    "        left = crawl(grid, row - 1, col, 0)\n",
    "        up = crawl(grid, row, col - 1, 0)\n",
    "        down = crawl(grid, row, col + 1, 0)\n",
    "        return right + left + up + down\n",
    "    \n",
    "def count_blobs(grid):\n",
    "    num_blobs = 0\n",
    "    \n",
    "    for row in range(len(grid)):\n",
    "        for col in range(len(grid[row])):\n",
    "            blob_size = crawl(grid, row, col)\n",
    "            if blob_size > 0:\n",
    "                num_blobs += 1\n",
    "    return num_blobs"
   ]
  },
  {
   "cell_type": "code",
   "execution_count": 190,
   "metadata": {},
   "outputs": [
    {
     "name": "stdout",
     "output_type": "stream",
     "text": [
      "The answer to the second puzzle is 1093\n"
     ]
    }
   ],
   "source": [
    "grid_copy = bin_grid[:]   ## deep copy\n",
    "print \"The answer to the second puzzle is\", count_blobs(grid_copy)"
   ]
  },
  {
   "cell_type": "code",
   "execution_count": null,
   "metadata": {},
   "outputs": [],
   "source": []
  }
 ],
 "metadata": {
  "kernelspec": {
   "display_name": "Python 2",
   "language": "python",
   "name": "python2"
  },
  "language_info": {
   "codemirror_mode": {
    "name": "ipython",
    "version": 2
   },
   "file_extension": ".py",
   "mimetype": "text/x-python",
   "name": "python",
   "nbconvert_exporter": "python",
   "pygments_lexer": "ipython2",
   "version": "2.7.14"
  }
 },
 "nbformat": 4,
 "nbformat_minor": 2
}
