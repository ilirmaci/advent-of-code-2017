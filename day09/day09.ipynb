{
 "cells": [
  {
   "cell_type": "code",
   "execution_count": null,
   "metadata": {},
   "outputs": [],
   "source": [
    "### solution to puzzles described here http://adventofcode.com/2017/day/9\n",
    "\n",
    "## Helper functions\n",
    "\n",
    "def count_groups(string, depth):\n",
    "    '''(str, int) -> int\n",
    "    Return nuber of groups in `string` weighted by `depth`'''\n",
    "    \n",
    "    print '-', string, '-'\n",
    "    # stopping rule for recursion\n",
    "    if string == '{}':\n",
    "        return depth\n",
    "    elif string == '':\n",
    "        return 0\n",
    "    \n",
    "    # peal off outermost braces and split\n",
    "    string = string[1:-1]\n",
    "    substrings = string.split(',')\n",
    "    \n",
    "    return depth + sum([count_groups(x, depth + 1) for x in substrings])\n"
   ]
  },
  {
   "cell_type": "code",
   "execution_count": 7,
   "metadata": {},
   "outputs": [
    {
     "name": "stdout",
     "output_type": "stream",
     "text": [
      "The answer to the first puzzle is 12897\n"
     ]
    }
   ],
   "source": [
    "# read data\n",
    "stream = open('day9_input_no_garbage.txt').read().strip()\n",
    "stream\n",
    "\n",
    "# initiate depth counter and score\n",
    "depth = 0\n",
    "score = 0\n",
    "\n",
    "for char in stream:\n",
    "    if char == '{':\n",
    "        depth += 1\n",
    "    elif char == '}':\n",
    "        score += depth\n",
    "        depth -= 1\n",
    "        \n",
    "print 'The answer to the first puzzle is', score"
   ]
  },
  {
   "cell_type": "code",
   "execution_count": 4,
   "metadata": {},
   "outputs": [
    {
     "name": "stdout",
     "output_type": "stream",
     "text": [
      "h\n",
      "e\n",
      "l\n",
      "l\n",
      "o\n"
     ]
    }
   ],
   "source": [
    "for char in 'hello':\n",
    "    print char"
   ]
  },
  {
   "cell_type": "code",
   "execution_count": null,
   "metadata": {},
   "outputs": [],
   "source": []
  }
 ],
 "metadata": {
  "kernelspec": {
   "display_name": "Python 2",
   "language": "python",
   "name": "python2"
  },
  "language_info": {
   "codemirror_mode": {
    "name": "ipython",
    "version": 2
   },
   "file_extension": ".py",
   "mimetype": "text/x-python",
   "name": "python",
   "nbconvert_exporter": "python",
   "pygments_lexer": "ipython2",
   "version": "2.7.14"
  }
 },
 "nbformat": 4,
 "nbformat_minor": 2
}
