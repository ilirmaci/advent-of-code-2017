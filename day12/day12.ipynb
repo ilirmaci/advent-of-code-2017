{
 "cells": [
  {
   "cell_type": "code",
   "execution_count": 82,
   "metadata": {},
   "outputs": [],
   "source": [
    "### solution to puzzles described here http://adventofcode.com/2017/day/12\n",
    "\n",
    "## Helper functions\n",
    "def read_edges(ll):\n",
    "    '''(list of str) -> dict of int:set of int\n",
    "    Return dictionary of edges text input.\n",
    "    '''\n",
    "    result = {}\n",
    "    for line in ll:\n",
    "        split_line = line.strip().split(' <-> ')\n",
    "        source = int(split_line[0])\n",
    "        dest = {int(x) for x in split_line[1].split(', ')}\n",
    "        result[source] = dest\n",
    "    return result\n",
    "\n",
    "def connected_components(start, edges, seen=set()):\n",
    "    '''(int, dict of int:set of int, set of int) -> generator of int\n",
    "    Return set of nodes reachable from `start` based on connections in `edges`. \n",
    "    The nodes in `seen` have already been visited\n",
    "    '''\n",
    "    yield start\n",
    "    new_seen = seen.union({start})\n",
    "    new_nodes = edges[start].difference(seen)\n",
    "    for node in new_nodes:\n",
    "        # yield from connected_components(...) ## in python 3\n",
    "        for nnn in connected_components(node, edges, new_seen):\n",
    "            yield nnn\n",
    "\n",
    "# it would be more pythonic to have pop_group modify nodes in place\n",
    "# but I *really* dislike combining return and side effects\n",
    "def detach_group(nodes, edges):\n",
    "    '''(set of int, dict of int:set of int) -> set of int, set of int\n",
    "    Return a 2-tuple of (one set of connected components from `nodes`, remaining)\n",
    "    '''\n",
    "    nodes_copy = nodes.copy()\n",
    "    start = nodes_copy.pop()\n",
    "    group = set(connected_components(start, edges))\n",
    "    return group, nodes_copy.difference(group)"
   ]
  },
  {
   "cell_type": "code",
   "execution_count": 76,
   "metadata": {},
   "outputs": [],
   "source": [
    "## read input\n",
    "input_raw = open('day12_input.txt').readlines()\n",
    "edges = read_edges(input_raw)"
   ]
  },
  {
   "cell_type": "code",
   "execution_count": 77,
   "metadata": {},
   "outputs": [
    {
     "name": "stdout",
     "output_type": "stream",
     "text": [
      "The answer to the first puzzle is 134\n"
     ]
    }
   ],
   "source": [
    "## Solution to PUZZLE 1\n",
    "connected_to_zero = set(connected_components(0, edges))\n",
    "print 'The answer to the first puzzle is', len(connected_to_zero)"
   ]
  },
  {
   "cell_type": "code",
   "execution_count": 91,
   "metadata": {},
   "outputs": [
    {
     "name": "stdout",
     "output_type": "stream",
     "text": [
      "The answer to the second puzzle is 193\n"
     ]
    }
   ],
   "source": [
    "## Solution to PUZZLE 2\n",
    "\n",
    "groups = []\n",
    "nodes = set(edges.keys())\n",
    "while len(nodes) > 0:\n",
    "    group, nodes = detach_group(nodes, edges)\n",
    "    groups.append(group)\n",
    "\n",
    "print 'The answer to the second puzzle is', len(groups)"
   ]
  }
 ],
 "metadata": {
  "kernelspec": {
   "display_name": "Python 2",
   "language": "python",
   "name": "python2"
  },
  "language_info": {
   "codemirror_mode": {
    "name": "ipython",
    "version": 2
   },
   "file_extension": ".py",
   "mimetype": "text/x-python",
   "name": "python",
   "nbconvert_exporter": "python",
   "pygments_lexer": "ipython2",
   "version": "2.7.14"
  }
 },
 "nbformat": 4,
 "nbformat_minor": 2
}
