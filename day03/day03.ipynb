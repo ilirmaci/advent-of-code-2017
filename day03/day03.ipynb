{
 "cells": [
  {
   "cell_type": "code",
   "execution_count": 2,
   "metadata": {},
   "outputs": [],
   "source": [
    "# solution to puzzles described here http://adventofcode.com/2017/day/3\n",
    "\n",
    "### PUZZLE 1 ###\n",
    "\n",
    "### Helper functions to find the ring on which a number falls ###\n",
    "\n",
    "# what is the highest number in the n-th ring?\n",
    "# 1 counts as being on ring 0\n",
    "def ring_upper(n):\n",
    "    return (n*2 + 1)**2\n",
    "\n",
    "# what is the lowest number in the n-th ring?\n",
    "def ring_lower(n):\n",
    "    return ring_upper(n-1) + 1\n",
    "\n",
    "# which ring does a number fall on?\n",
    "def num2ring(x):\n",
    "    return int(((x-1)**.5 + 1)/2)"
   ]
  },
  {
   "cell_type": "code",
   "execution_count": 3,
   "metadata": {},
   "outputs": [
    {
     "name": "stdout",
     "output_type": "stream",
     "text": [
      "25\n",
      "10\n",
      "49\n",
      "26\n"
     ]
    }
   ],
   "source": [
    "print ring_upper(2)\n",
    "print ring_lower(2)\n",
    "\n",
    "print ring_upper(3)\n",
    "print ring_lower(3)\n",
    "\n",
    "#[(x, num2ring(x)) for x in range(1, 53)]"
   ]
  },
  {
   "cell_type": "code",
   "execution_count": 4,
   "metadata": {},
   "outputs": [],
   "source": [
    "### Helper functions to find the position of a number within the ring ### \n",
    "\n",
    "# what position within the ring does a number have (starting from 1)\n",
    "def order_in_ring(x):\n",
    "    ring = num2ring(x)\n",
    "    return x + 1 - ring_lower(ring)\n",
    "\n",
    "# [(x, num2ring(x), order_in_ring(x)) for x in range(1, 53)]"
   ]
  },
  {
   "cell_type": "code",
   "execution_count": 5,
   "metadata": {},
   "outputs": [],
   "source": [
    "# how many numbers does the n-th ring contain?\n",
    "def numbers_in_ring(n):\n",
    "    return 8 * n\n",
    "\n",
    "# how many numbers does each edge in the n-th ring contain?\n",
    "def numbers_in_edge(n):\n",
    "    return numbers_in_ring(n) / 4\n",
    "\n",
    "# what is the order of a number in the edge?\n",
    "def order_in_edge(x):\n",
    "    ring = num2ring(x)\n",
    "    order = order_in_ring(x)\n",
    "    edge_length = numbers_in_edge(ring)\n",
    "    result = order % edge_length\n",
    "    \n",
    "    return result if result != 0 else edge_length\n",
    "\n",
    "# [(x, num2ring(x), order_in_ring(x), order_in_edge(x)) for x in range(2, 53)]"
   ]
  },
  {
   "cell_type": "code",
   "execution_count": 6,
   "metadata": {},
   "outputs": [],
   "source": [
    "# what is the midpoint of an edge in the n-th ring?\n",
    "def edge_midpoint(n):\n",
    "    return numbers_in_edge(n) / 2\n",
    "\n",
    "# how many steps is number x from the midpoint of its edge?\n",
    "def steps_from_midpoint(x):\n",
    "    ring = num2ring(x)\n",
    "    order_edge = order_in_edge(x)\n",
    "    midpoint = edge_midpoint(ring)\n",
    "    \n",
    "    return abs(order_edge - midpoint)\n",
    "\n",
    "# [(x, num2ring(x), order_in_ring(x), order_in_edge(x), steps_from_midpoint(x)) for x in range(2, 53)]"
   ]
  },
  {
   "cell_type": "code",
   "execution_count": 8,
   "metadata": {},
   "outputs": [
    {
     "data": {
      "text/plain": [
       "430"
      ]
     },
     "execution_count": 8,
     "metadata": {},
     "output_type": "execute_result"
    }
   ],
   "source": [
    "### Solution to first puzzle\n",
    "\n",
    "def moves_from_center(x):\n",
    "    return num2ring(x) + steps_from_midpoint(x)\n",
    "\n",
    "moves_from_center(312051)"
   ]
  },
  {
   "cell_type": "code",
   "execution_count": 31,
   "metadata": {},
   "outputs": [
    {
     "name": "stdout",
     "output_type": "stream",
     "text": [
      "2, index (1, 0), value 1\n",
      "3, index (1, 1), value 2\n",
      "4, index (0, 1), value 4\n",
      "5, index (-1, 1), value 5\n",
      "6, index (-1, 0), value 10\n",
      "7, index (-1, -1), value 11\n",
      "8, index (0, -1), value 23\n",
      "9, index (1, -1), value 25\n",
      "10, index (2, -1), value 26\n",
      "11, index (2, 0), value 54\n",
      "12, index (2, 1), value 57\n",
      "13, index (2, 2), value 59\n",
      "14, index (1, 2), value 122\n",
      "15, index (0, 2), value 133\n",
      "16, index (-1, 2), value 142\n",
      "17, index (-2, 2), value 147\n",
      "18, index (-2, 1), value 304\n",
      "19, index (-2, 0), value 330\n",
      "20, index (-2, -1), value 351\n",
      "21, index (-2, -2), value 362\n",
      "22, index (-1, -2), value 747\n",
      "23, index (0, -2), value 806\n",
      "24, index (1, -2), value 880\n",
      "25, index (2, -2), value 931\n",
      "The answer is: 312453\n"
     ]
    }
   ],
   "source": [
    "### PUZZLE #2 ###\n",
    "\n",
    "stop_value = 312051\n",
    "\n",
    "# return index (key) that is in given direction from input\n",
    "def go_to(key, direction):\n",
    "    i, j = key\n",
    "    if direction == 'up':\n",
    "        return (i, j + 1)\n",
    "    if direction == 'down':\n",
    "        return (i, j - 1)\n",
    "    if direction == 'left':\n",
    "        return (i - 1, j)\n",
    "    if direction == 'right':\n",
    "        return (i + 1, j)\n",
    "\n",
    "# funciton to get sum of neighbors\n",
    "def sum_neighbors(key, dd):\n",
    "    total = 0\n",
    "    i, j = key\n",
    "    shift_values = [-1, 0, 1]\n",
    "    for ishift, jshift in [(ish, jsh) for ish in shift_values for jsh in shift_values]:\n",
    "        total += dd.get((i + ishift, j + jshift), 0)\n",
    "    return total\n",
    "\n",
    "# return next move given current counter\n",
    "def next_move(counter):\n",
    "    ring = num2ring(counter)\n",
    "    order = order_in_ring(counter)\n",
    "    edge_length = numbers_in_edge(ring)\n",
    "    \n",
    "    # get 0 for vertical edge except last element, next up\n",
    "    # get 1 for horizontal edge except last element, next left...\n",
    "    # get 4 for last element, which should progress right to next ring\n",
    "    edge = int(order / edge_length)\n",
    "    edge2move = ['up', 'left', 'down', 'right', 'right']\n",
    "    return edge2move[edge]\n",
    "\n",
    "# initiate variables\n",
    "dd = {(0, 0): 1}    ## stores filled values\n",
    "counter = 1\n",
    "last_value = 1\n",
    "index = (1, 0)      ## start to the right of (0, 0)\n",
    "\n",
    "while last_value <= stop_value:\n",
    "    counter += 1\n",
    "    last_value = sum_neighbors(index, dd)\n",
    "    dd[index] = last_value\n",
    "    direction = next_move(counter)\n",
    "    #if counter <= 25:\n",
    "    #    print '{}, index {}, value {}'.format(counter, index, last_value) \n",
    "    index = go_to(index, direction)\n",
    "\n",
    "print 'The answer is:', last_value"
   ]
  },
  {
   "cell_type": "code",
   "execution_count": 29,
   "metadata": {},
   "outputs": [
    {
     "data": {
      "text/plain": [
       "27"
      ]
     },
     "execution_count": 29,
     "metadata": {},
     "output_type": "execute_result"
    }
   ],
   "source": []
  },
  {
   "cell_type": "code",
   "execution_count": 14,
   "metadata": {},
   "outputs": [
    {
     "data": {
      "text/plain": [
       "{1: 1, 2: 1, 3: 2, 4: 4, 5: 8, 6: 16, 7: 32, 8: 64, 9: 128, 10: 256}"
      ]
     },
     "execution_count": 14,
     "metadata": {},
     "output_type": "execute_result"
    }
   ],
   "source": [
    "xx"
   ]
  },
  {
   "cell_type": "code",
   "execution_count": 20,
   "metadata": {},
   "outputs": [
    {
     "data": {
      "text/plain": [
       "[(2, 1, 1, 1, 0, (0, 'up')),\n",
       " (3, 1, 2, 2, 1, (1, 'left')),\n",
       " (4, 1, 3, 1, 1, (1, 'left')),\n",
       " (5, 1, 4, 2, 2, (2, 'down')),\n",
       " (6, 1, 5, 1, 2, (2, 'down')),\n",
       " (7, 1, 6, 2, 3, (3, 'right')),\n",
       " (8, 1, 7, 1, 3, (3, 'right')),\n",
       " (9, 1, 8, 2, 4, (4, 'right')),\n",
       " (10, 2, 1, 1, 0, (0, 'up')),\n",
       " (11, 2, 2, 2, 0, (0, 'up')),\n",
       " (12, 2, 3, 3, 0, (0, 'up')),\n",
       " (13, 2, 4, 4, 1, (1, 'left')),\n",
       " (14, 2, 5, 1, 1, (1, 'left')),\n",
       " (15, 2, 6, 2, 1, (1, 'left')),\n",
       " (16, 2, 7, 3, 1, (1, 'left')),\n",
       " (17, 2, 8, 4, 2, (2, 'down')),\n",
       " (18, 2, 9, 1, 2, (2, 'down')),\n",
       " (19, 2, 10, 2, 2, (2, 'down')),\n",
       " (20, 2, 11, 3, 2, (2, 'down')),\n",
       " (21, 2, 12, 4, 3, (3, 'right')),\n",
       " (22, 2, 13, 1, 3, (3, 'right')),\n",
       " (23, 2, 14, 2, 3, (3, 'right')),\n",
       " (24, 2, 15, 3, 3, (3, 'right')),\n",
       " (25, 2, 16, 4, 4, (4, 'right')),\n",
       " (26, 3, 1, 1, 0, (0, 'up')),\n",
       " (27, 3, 2, 2, 0, (0, 'up')),\n",
       " (28, 3, 3, 3, 0, (0, 'up')),\n",
       " (29, 3, 4, 4, 0, (0, 'up')),\n",
       " (30, 3, 5, 5, 0, (0, 'up')),\n",
       " (31, 3, 6, 6, 1, (1, 'left')),\n",
       " (32, 3, 7, 1, 1, (1, 'left')),\n",
       " (33, 3, 8, 2, 1, (1, 'left')),\n",
       " (34, 3, 9, 3, 1, (1, 'left')),\n",
       " (35, 3, 10, 4, 1, (1, 'left')),\n",
       " (36, 3, 11, 5, 1, (1, 'left')),\n",
       " (37, 3, 12, 6, 2, (2, 'down')),\n",
       " (38, 3, 13, 1, 2, (2, 'down')),\n",
       " (39, 3, 14, 2, 2, (2, 'down')),\n",
       " (40, 3, 15, 3, 2, (2, 'down')),\n",
       " (41, 3, 16, 4, 2, (2, 'down')),\n",
       " (42, 3, 17, 5, 2, (2, 'down')),\n",
       " (43, 3, 18, 6, 3, (3, 'right')),\n",
       " (44, 3, 19, 1, 3, (3, 'right')),\n",
       " (45, 3, 20, 2, 3, (3, 'right')),\n",
       " (46, 3, 21, 3, 3, (3, 'right')),\n",
       " (47, 3, 22, 4, 3, (3, 'right')),\n",
       " (48, 3, 23, 5, 3, (3, 'right')),\n",
       " (49, 3, 24, 6, 4, (4, 'right')),\n",
       " (50, 4, 1, 1, 0, (0, 'up')),\n",
       " (51, 4, 2, 2, 0, (0, 'up')),\n",
       " (52, 4, 3, 3, 0, (0, 'up'))]"
      ]
     },
     "execution_count": 20,
     "metadata": {},
     "output_type": "execute_result"
    }
   ],
   "source": [
    "\n",
    "# return next move given current counter\n",
    "def next_move(counter):\n",
    "    ring = num2ring(counter)\n",
    "    order = order_in_ring(counter)\n",
    "    edge_length = numbers_in_edge(ring)\n",
    "    edge = int(order / edge_length)\n",
    "    edge2move = ['up', 'left', 'down', 'right', 'right']\n",
    "    return (edge, edge2move[edge])\n",
    "\n",
    "[(x, num2ring(x), order_in_ring(x), order_in_edge(x), order_in_ring(x)/numbers_in_edge(num2ring(x)), next_move(x)) for x in range(2, 53)]"
   ]
  },
  {
   "cell_type": "code",
   "execution_count": null,
   "metadata": {},
   "outputs": [],
   "source": []
  }
 ],
 "metadata": {
  "kernelspec": {
   "display_name": "Python 2",
   "language": "python",
   "name": "python2"
  },
  "language_info": {
   "codemirror_mode": {
    "name": "ipython",
    "version": 2
   },
   "file_extension": ".py",
   "mimetype": "text/x-python",
   "name": "python",
   "nbconvert_exporter": "python",
   "pygments_lexer": "ipython2",
   "version": "2.7.14"
  }
 },
 "nbformat": 4,
 "nbformat_minor": 2
}
