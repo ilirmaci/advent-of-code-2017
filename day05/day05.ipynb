{
 "cells": [
  {
   "cell_type": "code",
   "execution_count": 14,
   "metadata": {},
   "outputs": [
    {
     "name": "stdout",
     "output_type": "stream",
     "text": [
      "The answer to the first puzzle is 359348\n"
     ]
    }
   ],
   "source": [
    "# solution to puzzles described here http://adventofcode.com/2017/day/5\n",
    "\n",
    "### PUZZLE 1 ###\n",
    "\n",
    "# function to process instruction\n",
    "def process(instructions, index):\n",
    "    offset = instructions[index]\n",
    "    instructions[index] = offset + 1\n",
    "    return index + offset\n",
    "\n",
    "# read input\n",
    "instructions_raw = open('day5_input.txt').readlines()\n",
    "instructions = map(lambda x: int(x.strip()), instructions_raw)\n",
    "\n",
    "# initialize variables\n",
    "index = 0\n",
    "counter = 0\n",
    "\n",
    "while (index >= 0) and (index < len(instructions)):\n",
    "    index = process(instructions, index)\n",
    "    counter += 1\n",
    "    \n",
    "print 'The answer to the first puzzle is', counter"
   ]
  },
  {
   "cell_type": "code",
   "execution_count": 15,
   "metadata": {},
   "outputs": [
    {
     "name": "stdout",
     "output_type": "stream",
     "text": [
      "The answer to the second puzzle is 27688760\n"
     ]
    }
   ],
   "source": [
    "### PUZZLE 1 ###\n",
    "\n",
    "# function to process instruction\n",
    "# with decrement logic\n",
    "def process_v2(instructions, index):\n",
    "    offset = instructions[index]\n",
    "    if offset < 3:\n",
    "        instructions[index] = offset + 1\n",
    "    else:\n",
    "        instructions[index] = offset - 1\n",
    "    return index + offset\n",
    "\n",
    "instructions = map(lambda x: int(x.strip()), instructions_raw)\n",
    "\n",
    "# initialize variables\n",
    "index = 0\n",
    "counter = 0\n",
    "\n",
    "while (index >= 0) and (index < len(instructions)):\n",
    "    index = process_v2(instructions, index)\n",
    "    counter += 1\n",
    "    \n",
    "print 'The answer to the second puzzle is', counter"
   ]
  },
  {
   "cell_type": "code",
   "execution_count": null,
   "metadata": {},
   "outputs": [],
   "source": []
  }
 ],
 "metadata": {
  "kernelspec": {
   "display_name": "Python 2",
   "language": "python",
   "name": "python2"
  },
  "language_info": {
   "codemirror_mode": {
    "name": "ipython",
    "version": 2
   },
   "file_extension": ".py",
   "mimetype": "text/x-python",
   "name": "python",
   "nbconvert_exporter": "python",
   "pygments_lexer": "ipython2",
   "version": "2.7.14"
  }
 },
 "nbformat": 4,
 "nbformat_minor": 2
}
