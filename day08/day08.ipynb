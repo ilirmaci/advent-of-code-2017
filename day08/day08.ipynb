{
 "cells": [
  {
   "cell_type": "code",
   "execution_count": 1,
   "metadata": {},
   "outputs": [],
   "source": [
    "### solution to puzzles described here http://adventofcode.com/2017/day/8\n",
    "\n",
    "## Helper functions\n",
    "\n",
    "def parse_instruction(line):\n",
    "    '''(str) -> (str, str, int), (str, str, int)\n",
    "    Return a tuple representing command and condition, \n",
    "    each a 3-tuple of (variable, operator, value)'''\n",
    "    \n",
    "    fields = line.strip().split(' ')\n",
    "    command = (fields[0], fields[1], int(fields[2]))\n",
    "    condition = (fields[4], fields[5], int(fields[6]))\n",
    "    return command, condition\n",
    "    \n",
    "    \n",
    "def get_variable(variable, state):\n",
    "    '''(str, {str:int}) -> int\n",
    "    Return value of key `variable` from `state`. If not present, return 0.'''\n",
    "    return state.get(variable, 0)\n",
    "    \n",
    "    \n",
    "def update_variable(variable, value, state):\n",
    "    '''(str, int, {str:int}) -> NoneType\n",
    "    Update `variable` key in `state` to `value`.'''\n",
    "    state[variable] = value\n",
    "\n",
    "    \n",
    "def execute_command(command, state):\n",
    "    '''((str, str, int), {str:int}) -> NoneType\n",
    "    Update value of variable in `state` according to instructions in `command`'''\n",
    "    variable, operator, value = command\n",
    "    \n",
    "    if operator == 'inc':\n",
    "        new_value = get_variable(variable, state) + value\n",
    "    elif operator == 'dec':\n",
    "        new_value = get_variable(variable, state) - value\n",
    "    \n",
    "    update_variable(variable, new_value, state)\n",
    "\n",
    "    \n",
    "def evaluate_condition(condition, state):\n",
    "    '''((str, str, int), {str:int}) -> Boolean\n",
    "    Return truth value of `condition` tuple.'''\n",
    "    \n",
    "    variable, operator, condition_value = condition\n",
    "    true_value = get_variable(variable, state)\n",
    "    \n",
    "    # long but safe list of comparison operators\n",
    "    if operator == '==':\n",
    "        return true_value == condition_value\n",
    "    elif operator == '!=':\n",
    "        return true_value != condition_value\n",
    "    elif operator == '>':\n",
    "        return true_value > condition_value\n",
    "    elif operator == '>=':\n",
    "        return true_value >= condition_value\n",
    "    elif operator == '<':\n",
    "        return true_value < condition_value\n",
    "    elif operator == '<=':\n",
    "        return true_value <= condition_value\n"
   ]
  },
  {
   "cell_type": "code",
   "execution_count": 2,
   "metadata": {},
   "outputs": [
    {
     "name": "stdout",
     "output_type": "stream",
     "text": [
      "The answer to the first puzzle is 8022\n"
     ]
    }
   ],
   "source": [
    "### solution to Puzzle 1 ###\n",
    "\n",
    "# read in the data\n",
    "instructions = open('day8_input.txt').readlines()\n",
    "\n",
    "# initialize state to store variables (registers)\n",
    "state = {}\n",
    "\n",
    "# loop over all instructions\n",
    "for line in instructions:\n",
    "    command, condition = parse_instruction(line)\n",
    "    if evaluate_condition(condition, state):\n",
    "        execute_command(command, state)\n",
    "\n",
    "# get the max value\n",
    "try:\n",
    "    highest = max(state.values())\n",
    "except ValueError:\n",
    "    highest = 0\n",
    "    \n",
    "print 'The answer to the first puzzle is', highest"
   ]
  },
  {
   "cell_type": "code",
   "execution_count": 9,
   "metadata": {},
   "outputs": [
    {
     "name": "stdout",
     "output_type": "stream",
     "text": [
      "The answer to the second puzzle is 9819\n"
     ]
    }
   ],
   "source": [
    "### solution to Puzzle 2 ###\n",
    "\n",
    "# redefine update function to keep track of highest value\n",
    "def update_variable(variable, value, state):\n",
    "    '''(str, int, {str:int}) -> NoneType\n",
    "    Update `variable` key in `state` to `value`. \n",
    "    Check if this is higher than any value seen and, if so, update it'''\n",
    "    state[variable] = value\n",
    "    \n",
    "    current_highest = state['highest']\n",
    "    if value > current_highest:\n",
    "        state['highest'] = value\n",
    "    \n",
    "# initialize state to store variables (registers)\n",
    "state = {'highest':0}\n",
    "\n",
    "# loop over all instructions\n",
    "for line in instructions:\n",
    "    command, condition = parse_instruction(line)\n",
    "    if evaluate_condition(condition, state):\n",
    "        execute_command(command, state)\n",
    "\n",
    "print 'The answer to the second puzzle is', state['highest']"
   ]
  }
 ],
 "metadata": {
  "kernelspec": {
   "display_name": "Python 2",
   "language": "python",
   "name": "python2"
  },
  "language_info": {
   "codemirror_mode": {
    "name": "ipython",
    "version": 2
   },
   "file_extension": ".py",
   "mimetype": "text/x-python",
   "name": "python",
   "nbconvert_exporter": "python",
   "pygments_lexer": "ipython2",
   "version": "2.7.14"
  }
 },
 "nbformat": 4,
 "nbformat_minor": 2
}
