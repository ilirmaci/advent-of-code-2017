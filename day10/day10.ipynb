{
 "cells": [
  {
   "cell_type": "code",
   "execution_count": 1,
   "metadata": {},
   "outputs": [],
   "source": [
    "### solution to puzzles described here http://adventofcode.com/2017/day/10\n",
    "\n",
    "## Helper functions\n",
    "def flip(vec, position, length):\n",
    "    '''(list on int) -> list of int\n",
    "    Return `vec` with elements position:(position+length) in reverse order'''\n",
    "    len_original = len(vec)\n",
    "    vec = 2 * vec\n",
    "    arc_end = position + length\n",
    "    arc = vec[position:arc_end]\n",
    "    vec[position:arc_end] = reversed(arc)\n",
    "    \n",
    "    if arc_end >= len_original:\n",
    "        spill = arc_end - len_original\n",
    "        vec[0:spill] = vec[len_original:arc_end]\n",
    "    \n",
    "    return vec[:len_original]\n",
    "    "
   ]
  },
  {
   "cell_type": "code",
   "execution_count": 2,
   "metadata": {},
   "outputs": [
    {
     "name": "stdout",
     "output_type": "stream",
     "text": [
      "[158, 157, 156, 155, 154, 153, 152, 251, 252]\n",
      "The answer to the first puzzle is 6952\n"
     ]
    }
   ],
   "source": [
    "## Solution to puzzle 1 ##\n",
    "\n",
    "# read data\n",
    "instructions_raw = '31,2,85,1,80,109,35,63,98,255,0,13,105,254,128,33'\n",
    "instructions = map(int, instructions_raw.split(','))\n",
    "\n",
    "# initialize counters\n",
    "vec = range(256)\n",
    "skip = 0\n",
    "position = 0\n",
    "\n",
    "for length in instructions:\n",
    "    vec = flip(vec, position, length)\n",
    "    position = (position + length + skip) % 256\n",
    "    skip += 1\n",
    "    \n",
    "assert len(vec) == len(set(vec)) # there should be no duplicates\n",
    "\n",
    "print vec[1:10]\n",
    "print 'The answer to the first puzzle is', vec[0] * vec[1]\n"
   ]
  },
  {
   "cell_type": "code",
   "execution_count": 8,
   "metadata": {},
   "outputs": [
    {
     "name": "stdout",
     "output_type": "stream",
     "text": [
      "[75, 7, 97, 109, 67, 30, 226, 20, 121, 218]\n"
     ]
    }
   ],
   "source": [
    "## Solution to puzzle 2 ##\n",
    "\n",
    "# update input\n",
    "extra_instructions = '17, 31, 73, 47, 23'\n",
    "string_of_bytes = map(ord, list(instructions_raw))\n",
    "instructions2 = string_of_bytes + map(int, extra_instructions.split(','))\n",
    "\n",
    "# initialize counters\n",
    "vec = range(256)\n",
    "skip = 0\n",
    "position = 0\n",
    "\n",
    "for rr in range(64):\n",
    "    for length in instructions2:\n",
    "        vec = flip(vec, position, length)\n",
    "        position = (position + length + skip) % 256\n",
    "        skip += 1\n",
    "\n",
    "assert len(vec) == len(set(vec))\n",
    "print vec[:10]"
   ]
  },
  {
   "cell_type": "code",
   "execution_count": 10,
   "metadata": {},
   "outputs": [],
   "source": [
    "def split_list(ll, sublist_length):\n",
    "    '''(list, int) -> list of list\n",
    "    Return `ll` split into pieces of length `sublist_length`'''\n",
    "    starts = range(0, len(ll), sublist_length)\n",
    "    return [ll[idx:(idx + sublist_length)] for idx in starts]\n",
    "\n",
    "def collapse_xor(row):\n",
    "    '''(list of int) -> int\n",
    "    Return the result of reducing `row` by bitwise XOR.\n",
    "    '''\n",
    "    return reduce(lambda a, b: a ^ b, row)"
   ]
  },
  {
   "cell_type": "code",
   "execution_count": 11,
   "metadata": {},
   "outputs": [
    {
     "name": "stdout",
     "output_type": "stream",
     "text": [
      "The answer to the second puzzle is 28e7c4360520718a5dc811d3942cf1fd\n"
     ]
    }
   ],
   "source": [
    "folded_vec = split_list(vec, 16)\n",
    "list_of_dec = map(collapse_xor, folded_vec)\n",
    "list_of_hex = map(lambda y: \"{0:02x}\".format(y), list_of_dec)\n",
    "result_string = ''.join(list_of_hex)\n",
    "\n",
    "print 'The answer to the second puzzle is', result_string"
   ]
  },
  {
   "cell_type": "code",
   "execution_count": null,
   "metadata": {},
   "outputs": [],
   "source": []
  }
 ],
 "metadata": {
  "kernelspec": {
   "display_name": "Python 2",
   "language": "python",
   "name": "python2"
  },
  "language_info": {
   "codemirror_mode": {
    "name": "ipython",
    "version": 2
   },
   "file_extension": ".py",
   "mimetype": "text/x-python",
   "name": "python",
   "nbconvert_exporter": "python",
   "pygments_lexer": "ipython2",
   "version": "2.7.14"
  }
 },
 "nbformat": 4,
 "nbformat_minor": 2
}
