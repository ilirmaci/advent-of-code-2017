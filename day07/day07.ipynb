{
 "cells": [
  {
   "cell_type": "code",
   "execution_count": 18,
   "metadata": {},
   "outputs": [],
   "source": [
    "# solution to puzzles described here http://adventofcode.com/2017/day/7\n",
    "\n",
    "# return (name, weight) from pattern `name (weight)`\n",
    "def parse_head(line):\n",
    "    result = line.translate(None, '()').split(' ')\n",
    "    return (result[0], int(result[1]))\n",
    "\n",
    "# function that parses data\n",
    "def parse_program(line):\n",
    "    if line.find('->') == -1:\n",
    "        name, weight = parse_head(line)\n",
    "        return name, (weight, [])\n",
    "    else:\n",
    "        # split head from tail list\n",
    "        split_line = line.strip().split(' -> ')\n",
    "        name, weight = parse_head(split_line[0])\n",
    "        tail = split_line[1].split(', ')\n",
    "        return name, (weight, tail)\n",
    "\n",
    "# read data\n",
    "programs_raw = open('day7_input.txt').readlines()\n",
    "programs = {key: value for key,value in map(parse_program, programs_raw)}"
   ]
  },
  {
   "cell_type": "code",
   "execution_count": 51,
   "metadata": {},
   "outputs": [
    {
     "name": "stdout",
     "output_type": "stream",
     "text": [
      "The answer to the first puzzle is  fbgguv\n"
     ]
    }
   ],
   "source": [
    "### PUZZLE 1 ###\n",
    "\n",
    "# get programs that support some other program\n",
    "base_programs = {key for key, value in programs.items() if value[1] != []}\n",
    "\n",
    "# get set of programs linked by somemone else\n",
    "linked_programs = set()\n",
    "for key in base_programs:\n",
    "    linked_programs.update(programs[key][1])\n",
    "    \n",
    "# the set difference should be the answer\n",
    "result = base_programs.difference(linked_programs)\n",
    "assert(len(result) == 1)\n",
    "\n",
    "print 'The answer to the first puzzle is', result.pop()"
   ]
  },
  {
   "cell_type": "code",
   "execution_count": 103,
   "metadata": {},
   "outputs": [
    {
     "name": "stdout",
     "output_type": "stream",
     "text": [
      "[(1864, 2553, 'jdxfsa'), (72, 17918, 'zsasjr'), (57, 89632, 'sfruur')]\n",
      "The answer to the second puzzle is 1864\n"
     ]
    }
   ],
   "source": [
    "### PUZZLE 2 ###\n",
    "\n",
    "# get weight of program with all supported programs\n",
    "def total_weight(prog, programs, cache):\n",
    "    # check memoized results\n",
    "    if prog in cache:\n",
    "        return cache[prog]\n",
    "    \n",
    "    data = programs[prog]\n",
    "    own_weight = data[0]\n",
    "    supp = data[1]\n",
    "    \n",
    "    # return own weight if there are no supported programs\n",
    "    if supp == []:\n",
    "        cache[prog] = own_weight\n",
    "        return own_weight\n",
    "    \n",
    "    result = own_weight + sum([total_weight(x, programs, cache) for x in supp])\n",
    "    cache[prog] = result\n",
    "    return result\n",
    "\n",
    "cache = {}  # start empty cache\n",
    "\n",
    "def fix_wrong(named_weights):\n",
    "    \n",
    "    # make histogram of weights\n",
    "    dd = {}\n",
    "    for name, weight in named_weights:\n",
    "        if weight in dd:\n",
    "            dd[weight] += name\n",
    "        else:\n",
    "            dd[weight] = [name]\n",
    "    \n",
    "    # if there is only one entry, return -1 (no error)\n",
    "    if len(dd) == 1:\n",
    "        return -1\n",
    "    \n",
    "    # othwerwise return entry with frequency > 1\n",
    "    correct_weight = [key for key, value in dd.items() if len(value) > 1][0]\n",
    "    wrong_weight, name_wrong = [(key, value) for key, value in dd.items() if len(value) == 1][0]\n",
    "    return (correct_weight - wrong_weight, wrong_weight, name_wrong[0])\n",
    "\n",
    "\n",
    "# loop over all programs that support others to find inconsistencies\n",
    "# put them all in a list of (correct weight, current total weight, name)\n",
    "errors = []\n",
    "for prog in base_programs:\n",
    "    data = programs[prog]\n",
    "    supp_weights = [(x, total_weight(x, programs, cache)) for x in data[1]]\n",
    "    \n",
    "    correction = fix_wrong(supp_weights)\n",
    "    if correction != -1:\n",
    "        program_at_fault = correction[2]        ## name\n",
    "        total = correction[1]                   ## total weight (to find deepest)\n",
    "        current_weight_at_fault = programs[program_at_fault][0]  ## own weight\n",
    "        result = current_weight_at_fault + correction[0]  ## assuming this is deepest\n",
    "        errors.append((result, total, program_at_fault))  ## put in list to sort later\n",
    "        \n",
    "# order errors so the deepest one comes to the front\n",
    "errors.sort(key=lambda x: x[1])  ## second value is total weight\n",
    "\n",
    "print errors\n",
    "print 'The answer to the second puzzle is', errors[0][0]"
   ]
  }
 ],
 "metadata": {
  "kernelspec": {
   "display_name": "Python 2",
   "language": "python",
   "name": "python2"
  },
  "language_info": {
   "codemirror_mode": {
    "name": "ipython",
    "version": 2
   },
   "file_extension": ".py",
   "mimetype": "text/x-python",
   "name": "python",
   "nbconvert_exporter": "python",
   "pygments_lexer": "ipython2",
   "version": "2.7.14"
  }
 },
 "nbformat": 4,
 "nbformat_minor": 2
}
